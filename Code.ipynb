{
 "cells": [
  {
   "cell_type": "markdown",
   "id": "a726f33f",
   "metadata": {},
   "source": [
    " <center><h2>Comparision of Diffrent Quantization methods for URL Classification</h2></center>"
   ]
  },
  {
   "cell_type": "code",
   "execution_count": 1,
   "id": "524554ff",
   "metadata": {},
   "outputs": [
    {
     "name": "stdout",
     "output_type": "stream",
     "text": [
      "Sun Jul  4 14:18:53 2021       \n",
      "+-----------------------------------------------------------------------------+\n",
      "| NVIDIA-SMI 471.11       Driver Version: 471.11       CUDA Version: 11.4     |\n",
      "|-------------------------------+----------------------+----------------------+\n",
      "| GPU  Name            TCC/WDDM | Bus-Id        Disp.A | Volatile Uncorr. ECC |\n",
      "| Fan  Temp  Perf  Pwr:Usage/Cap|         Memory-Usage | GPU-Util  Compute M. |\n",
      "|                               |                      |               MIG M. |\n",
      "|===============================+======================+======================|\n",
      "|   0  NVIDIA GeForce ... WDDM  | 00000000:01:00.0 Off |                  N/A |\n",
      "| N/A   52C    P8    16W /  N/A |    121MiB /  6144MiB |      0%      Default |\n",
      "|                               |                      |                  N/A |\n",
      "+-------------------------------+----------------------+----------------------+\n",
      "                                                                               \n",
      "+-----------------------------------------------------------------------------+\n",
      "| Processes:                                                                  |\n",
      "|  GPU   GI   CI        PID   Type   Process name                  GPU Memory |\n",
      "|        ID   ID                                                   Usage      |\n",
      "|=============================================================================|\n",
      "|    0   N/A  N/A     14300    C+G   ...bbwe\\PaintStudio.View.exe    N/A      |\n",
      "+-----------------------------------------------------------------------------+\n"
     ]
    }
   ],
   "source": [
    "!nvidia-smi"
   ]
  },
  {
   "cell_type": "code",
   "execution_count": 2,
   "id": "87827838",
   "metadata": {},
   "outputs": [
    {
     "name": "stdout",
     "output_type": "stream",
     "text": [
      "1 Physical GPUs, 1 Logical GPUs\n"
     ]
    }
   ],
   "source": [
    "import tensorflow as tf\n",
    "gpus = tf.config.experimental.list_physical_devices('GPU')\n",
    "if gpus:\n",
    "  # Restrict TensorFlow to only allocate 4GB of memory on the first GPU\n",
    "  try:\n",
    "    tf.config.experimental.set_virtual_device_configuration(\n",
    "        gpus[0],\n",
    "        [tf.config.experimental.VirtualDeviceConfiguration(memory_limit=4096)])\n",
    "    logical_gpus = tf.config.experimental.list_logical_devices('GPU')\n",
    "    print(len(gpus), \"Physical GPUs,\", len(logical_gpus), \"Logical GPUs\")\n",
    "  except RuntimeError as e:\n",
    "    # Virtual devices must be set before GPUs have been initialized\n",
    "    print(e)"
   ]
  },
  {
   "cell_type": "code",
   "execution_count": 3,
   "id": "0c3da49b",
   "metadata": {},
   "outputs": [],
   "source": [
    "import os\n",
    "import pandas as pd\n",
    "from tensorflow import keras\n",
    "import numpy as np"
   ]
  },
  {
   "cell_type": "code",
   "execution_count": 4,
   "id": "f8036ff0",
   "metadata": {},
   "outputs": [],
   "source": [
    "from sklearn.preprocessing import LabelEncoder\n",
    "from tensorflow.keras.utils import to_categorical\n",
    "from sklearn.model_selection import train_test_split\n",
    "from sklearn.metrics import accuracy_score,f1_score,precision_score,recall_score\n",
    "from sklearn.preprocessing import MinMaxScaler\n",
    "from tensorflow.keras import backend as K"
   ]
  },
  {
   "cell_type": "code",
   "execution_count": 5,
   "id": "8eaec1b3",
   "metadata": {},
   "outputs": [],
   "source": [
    "def get_file_size(file_path):\n",
    "    size = os.path.getsize(file_path)\n",
    "    return size"
   ]
  },
  {
   "cell_type": "code",
   "execution_count": 6,
   "id": "38227a5d",
   "metadata": {},
   "outputs": [],
   "source": [
    "def convert_bytes(size, unit=None):\n",
    "    if unit == \"KB\":\n",
    "        return print('File size: ' + str(round(size / 1024, 3)) + ' Kilobytes')\n",
    "    elif unit == \"MB\":\n",
    "        return print('File size: ' + str(round(size / (1024 * 1024), 3)) + ' Megabytes')\n",
    "    else:\n",
    "        return print('File size: ' + str(size) + ' bytes')"
   ]
  },
  {
   "cell_type": "code",
   "execution_count": 7,
   "id": "b19ee07a",
   "metadata": {},
   "outputs": [],
   "source": [
    "data = pd.read_csv(\"feature.csv\")"
   ]
  },
  {
   "cell_type": "code",
   "execution_count": 8,
   "id": "3b0ffd8d",
   "metadata": {},
   "outputs": [
    {
     "data": {
      "text/html": [
       "<div>\n",
       "<style scoped>\n",
       "    .dataframe tbody tr th:only-of-type {\n",
       "        vertical-align: middle;\n",
       "    }\n",
       "\n",
       "    .dataframe tbody tr th {\n",
       "        vertical-align: top;\n",
       "    }\n",
       "\n",
       "    .dataframe thead th {\n",
       "        text-align: right;\n",
       "    }\n",
       "</style>\n",
       "<table border=\"1\" class=\"dataframe\">\n",
       "  <thead>\n",
       "    <tr style=\"text-align: right;\">\n",
       "      <th></th>\n",
       "      <th>Unnamed: 0</th>\n",
       "      <th>File</th>\n",
       "      <th>bodyLength</th>\n",
       "      <th>bscr</th>\n",
       "      <th>dse</th>\n",
       "      <th>dsr</th>\n",
       "      <th>entropy</th>\n",
       "      <th>hasHttp</th>\n",
       "      <th>hasHttps</th>\n",
       "      <th>has_ip</th>\n",
       "      <th>...</th>\n",
       "      <th>numParams</th>\n",
       "      <th>numTitles</th>\n",
       "      <th>num_%20</th>\n",
       "      <th>num_@</th>\n",
       "      <th>sbr</th>\n",
       "      <th>scriptLength</th>\n",
       "      <th>specialChars</th>\n",
       "      <th>sscr</th>\n",
       "      <th>urlIsLive</th>\n",
       "      <th>urlLength</th>\n",
       "    </tr>\n",
       "  </thead>\n",
       "  <tbody>\n",
       "    <tr>\n",
       "      <th>0</th>\n",
       "      <td>0</td>\n",
       "      <td>spam_dataset</td>\n",
       "      <td>31</td>\n",
       "      <td>0.064516</td>\n",
       "      <td>0</td>\n",
       "      <td>0</td>\n",
       "      <td>-4.708307</td>\n",
       "      <td>True</td>\n",
       "      <td>False</td>\n",
       "      <td>0</td>\n",
       "      <td>...</td>\n",
       "      <td>0</td>\n",
       "      <td>0</td>\n",
       "      <td>0</td>\n",
       "      <td>0</td>\n",
       "      <td>0.000000</td>\n",
       "      <td>0</td>\n",
       "      <td>2</td>\n",
       "      <td>0.000000</td>\n",
       "      <td>False</td>\n",
       "      <td>81</td>\n",
       "    </tr>\n",
       "    <tr>\n",
       "      <th>1</th>\n",
       "      <td>1</td>\n",
       "      <td>spam_dataset</td>\n",
       "      <td>64790</td>\n",
       "      <td>0.306050</td>\n",
       "      <td>0</td>\n",
       "      <td>0</td>\n",
       "      <td>-4.576882</td>\n",
       "      <td>True</td>\n",
       "      <td>False</td>\n",
       "      <td>0</td>\n",
       "      <td>...</td>\n",
       "      <td>0</td>\n",
       "      <td>19</td>\n",
       "      <td>0</td>\n",
       "      <td>0</td>\n",
       "      <td>0.923800</td>\n",
       "      <td>59853</td>\n",
       "      <td>19829</td>\n",
       "      <td>3.018458</td>\n",
       "      <td>False</td>\n",
       "      <td>58</td>\n",
       "    </tr>\n",
       "    <tr>\n",
       "      <th>2</th>\n",
       "      <td>2</td>\n",
       "      <td>spam_dataset</td>\n",
       "      <td>757</td>\n",
       "      <td>0.195509</td>\n",
       "      <td>0</td>\n",
       "      <td>0</td>\n",
       "      <td>-4.205536</td>\n",
       "      <td>True</td>\n",
       "      <td>False</td>\n",
       "      <td>0</td>\n",
       "      <td>...</td>\n",
       "      <td>0</td>\n",
       "      <td>1</td>\n",
       "      <td>0</td>\n",
       "      <td>0</td>\n",
       "      <td>0.000000</td>\n",
       "      <td>0</td>\n",
       "      <td>148</td>\n",
       "      <td>0.000000</td>\n",
       "      <td>False</td>\n",
       "      <td>46</td>\n",
       "    </tr>\n",
       "    <tr>\n",
       "      <th>3</th>\n",
       "      <td>3</td>\n",
       "      <td>spam_dataset</td>\n",
       "      <td>266310</td>\n",
       "      <td>0.230915</td>\n",
       "      <td>0</td>\n",
       "      <td>0</td>\n",
       "      <td>-4.550931</td>\n",
       "      <td>True</td>\n",
       "      <td>False</td>\n",
       "      <td>0</td>\n",
       "      <td>...</td>\n",
       "      <td>0</td>\n",
       "      <td>648</td>\n",
       "      <td>0</td>\n",
       "      <td>0</td>\n",
       "      <td>0.312647</td>\n",
       "      <td>83261</td>\n",
       "      <td>61495</td>\n",
       "      <td>1.353947</td>\n",
       "      <td>False</td>\n",
       "      <td>52</td>\n",
       "    </tr>\n",
       "    <tr>\n",
       "      <th>4</th>\n",
       "      <td>4</td>\n",
       "      <td>spam_dataset</td>\n",
       "      <td>40</td>\n",
       "      <td>0.200000</td>\n",
       "      <td>0</td>\n",
       "      <td>0</td>\n",
       "      <td>-4.689336</td>\n",
       "      <td>True</td>\n",
       "      <td>False</td>\n",
       "      <td>0</td>\n",
       "      <td>...</td>\n",
       "      <td>2</td>\n",
       "      <td>1</td>\n",
       "      <td>0</td>\n",
       "      <td>0</td>\n",
       "      <td>0.000000</td>\n",
       "      <td>0</td>\n",
       "      <td>8</td>\n",
       "      <td>0.000000</td>\n",
       "      <td>False</td>\n",
       "      <td>83</td>\n",
       "    </tr>\n",
       "    <tr>\n",
       "      <th>...</th>\n",
       "      <td>...</td>\n",
       "      <td>...</td>\n",
       "      <td>...</td>\n",
       "      <td>...</td>\n",
       "      <td>...</td>\n",
       "      <td>...</td>\n",
       "      <td>...</td>\n",
       "      <td>...</td>\n",
       "      <td>...</td>\n",
       "      <td>...</td>\n",
       "      <td>...</td>\n",
       "      <td>...</td>\n",
       "      <td>...</td>\n",
       "      <td>...</td>\n",
       "      <td>...</td>\n",
       "      <td>...</td>\n",
       "      <td>...</td>\n",
       "      <td>...</td>\n",
       "      <td>...</td>\n",
       "      <td>...</td>\n",
       "      <td>...</td>\n",
       "    </tr>\n",
       "    <tr>\n",
       "      <th>54526</th>\n",
       "      <td>9996</td>\n",
       "      <td>Defacement</td>\n",
       "      <td>33</td>\n",
       "      <td>0.121212</td>\n",
       "      <td>0</td>\n",
       "      <td>0</td>\n",
       "      <td>-4.755244</td>\n",
       "      <td>True</td>\n",
       "      <td>False</td>\n",
       "      <td>0</td>\n",
       "      <td>...</td>\n",
       "      <td>5</td>\n",
       "      <td>1</td>\n",
       "      <td>0</td>\n",
       "      <td>0</td>\n",
       "      <td>0.000000</td>\n",
       "      <td>0</td>\n",
       "      <td>4</td>\n",
       "      <td>0.000000</td>\n",
       "      <td>False</td>\n",
       "      <td>155</td>\n",
       "    </tr>\n",
       "    <tr>\n",
       "      <th>54527</th>\n",
       "      <td>9997</td>\n",
       "      <td>Defacement</td>\n",
       "      <td>862930</td>\n",
       "      <td>0.207603</td>\n",
       "      <td>0</td>\n",
       "      <td>0</td>\n",
       "      <td>-4.419173</td>\n",
       "      <td>True</td>\n",
       "      <td>False</td>\n",
       "      <td>0</td>\n",
       "      <td>...</td>\n",
       "      <td>0</td>\n",
       "      <td>3</td>\n",
       "      <td>0</td>\n",
       "      <td>0</td>\n",
       "      <td>0.011485</td>\n",
       "      <td>9911</td>\n",
       "      <td>179147</td>\n",
       "      <td>0.055323</td>\n",
       "      <td>False</td>\n",
       "      <td>79</td>\n",
       "    </tr>\n",
       "    <tr>\n",
       "      <th>54528</th>\n",
       "      <td>9998</td>\n",
       "      <td>Defacement</td>\n",
       "      <td>183</td>\n",
       "      <td>0.185792</td>\n",
       "      <td>0</td>\n",
       "      <td>0</td>\n",
       "      <td>-4.196164</td>\n",
       "      <td>True</td>\n",
       "      <td>False</td>\n",
       "      <td>0</td>\n",
       "      <td>...</td>\n",
       "      <td>0</td>\n",
       "      <td>1</td>\n",
       "      <td>0</td>\n",
       "      <td>0</td>\n",
       "      <td>0.000000</td>\n",
       "      <td>0</td>\n",
       "      <td>34</td>\n",
       "      <td>0.000000</td>\n",
       "      <td>False</td>\n",
       "      <td>65</td>\n",
       "    </tr>\n",
       "    <tr>\n",
       "      <th>54529</th>\n",
       "      <td>9999</td>\n",
       "      <td>Defacement</td>\n",
       "      <td>0</td>\n",
       "      <td>0.000000</td>\n",
       "      <td>0</td>\n",
       "      <td>0</td>\n",
       "      <td>-3.896292</td>\n",
       "      <td>True</td>\n",
       "      <td>False</td>\n",
       "      <td>0</td>\n",
       "      <td>...</td>\n",
       "      <td>0</td>\n",
       "      <td>0</td>\n",
       "      <td>0</td>\n",
       "      <td>0</td>\n",
       "      <td>0.000000</td>\n",
       "      <td>0</td>\n",
       "      <td>0</td>\n",
       "      <td>0.000000</td>\n",
       "      <td>False</td>\n",
       "      <td>28</td>\n",
       "    </tr>\n",
       "    <tr>\n",
       "      <th>54530</th>\n",
       "      <td>10000</td>\n",
       "      <td>Defacement</td>\n",
       "      <td>507</td>\n",
       "      <td>0.366864</td>\n",
       "      <td>0</td>\n",
       "      <td>0</td>\n",
       "      <td>-4.820935</td>\n",
       "      <td>True</td>\n",
       "      <td>False</td>\n",
       "      <td>0</td>\n",
       "      <td>...</td>\n",
       "      <td>3</td>\n",
       "      <td>0</td>\n",
       "      <td>0</td>\n",
       "      <td>0</td>\n",
       "      <td>0.000000</td>\n",
       "      <td>0</td>\n",
       "      <td>186</td>\n",
       "      <td>0.000000</td>\n",
       "      <td>False</td>\n",
       "      <td>101</td>\n",
       "    </tr>\n",
       "  </tbody>\n",
       "</table>\n",
       "<p>54531 rows × 23 columns</p>\n",
       "</div>"
      ],
      "text/plain": [
       "       Unnamed: 0          File  bodyLength      bscr  dse  dsr   entropy  \\\n",
       "0               0  spam_dataset          31  0.064516    0    0 -4.708307   \n",
       "1               1  spam_dataset       64790  0.306050    0    0 -4.576882   \n",
       "2               2  spam_dataset         757  0.195509    0    0 -4.205536   \n",
       "3               3  spam_dataset      266310  0.230915    0    0 -4.550931   \n",
       "4               4  spam_dataset          40  0.200000    0    0 -4.689336   \n",
       "...           ...           ...         ...       ...  ...  ...       ...   \n",
       "54526        9996    Defacement          33  0.121212    0    0 -4.755244   \n",
       "54527        9997    Defacement      862930  0.207603    0    0 -4.419173   \n",
       "54528        9998    Defacement         183  0.185792    0    0 -4.196164   \n",
       "54529        9999    Defacement           0  0.000000    0    0 -3.896292   \n",
       "54530       10000    Defacement         507  0.366864    0    0 -4.820935   \n",
       "\n",
       "       hasHttp  hasHttps  has_ip  ...  numParams  numTitles  num_%20  num_@  \\\n",
       "0         True     False       0  ...          0          0        0      0   \n",
       "1         True     False       0  ...          0         19        0      0   \n",
       "2         True     False       0  ...          0          1        0      0   \n",
       "3         True     False       0  ...          0        648        0      0   \n",
       "4         True     False       0  ...          2          1        0      0   \n",
       "...        ...       ...     ...  ...        ...        ...      ...    ...   \n",
       "54526     True     False       0  ...          5          1        0      0   \n",
       "54527     True     False       0  ...          0          3        0      0   \n",
       "54528     True     False       0  ...          0          1        0      0   \n",
       "54529     True     False       0  ...          0          0        0      0   \n",
       "54530     True     False       0  ...          3          0        0      0   \n",
       "\n",
       "            sbr  scriptLength  specialChars      sscr  urlIsLive  urlLength  \n",
       "0      0.000000             0             2  0.000000      False         81  \n",
       "1      0.923800         59853         19829  3.018458      False         58  \n",
       "2      0.000000             0           148  0.000000      False         46  \n",
       "3      0.312647         83261         61495  1.353947      False         52  \n",
       "4      0.000000             0             8  0.000000      False         83  \n",
       "...         ...           ...           ...       ...        ...        ...  \n",
       "54526  0.000000             0             4  0.000000      False        155  \n",
       "54527  0.011485          9911        179147  0.055323      False         79  \n",
       "54528  0.000000             0            34  0.000000      False         65  \n",
       "54529  0.000000             0             0  0.000000      False         28  \n",
       "54530  0.000000             0           186  0.000000      False        101  \n",
       "\n",
       "[54531 rows x 23 columns]"
      ]
     },
     "execution_count": 8,
     "metadata": {},
     "output_type": "execute_result"
    }
   ],
   "source": [
    "data"
   ]
  },
  {
   "cell_type": "code",
   "execution_count": 9,
   "id": "813e42e7",
   "metadata": {},
   "outputs": [
    {
     "data": {
      "text/plain": [
       "{'Benign_list_big_final',\n",
       " 'Defacement',\n",
       " 'Malware_dataset',\n",
       " 'phishing_dataset',\n",
       " 'spam_dataset'}"
      ]
     },
     "execution_count": 9,
     "metadata": {},
     "output_type": "execute_result"
    }
   ],
   "source": [
    "set(data['File'])"
   ]
  },
  {
   "cell_type": "code",
   "execution_count": 10,
   "id": "0acb05e4",
   "metadata": {},
   "outputs": [],
   "source": [
    "data.replace(\"Benign_list_big_final\",\"Benign\",inplace=True)\n",
    "data.replace(\"Malware_dataset\",\"Malware\",inplace=True)\n",
    "data.replace(\"phishing_dataset\",\"Phishing\",inplace=True)\n",
    "data.replace(\"spam_dataset\",\"Spam\",inplace=True)"
   ]
  },
  {
   "cell_type": "code",
   "execution_count": 11,
   "id": "27628d74",
   "metadata": {},
   "outputs": [],
   "source": [
    "data.drop(columns='Unnamed: 0',inplace=True)\n",
    "data.replace(True,1,inplace = True)\n",
    "data.replace(False,0,inplace = True)\n",
    "y = data[\"File\"]"
   ]
  },
  {
   "cell_type": "code",
   "execution_count": 12,
   "id": "baa1525e",
   "metadata": {},
   "outputs": [],
   "source": [
    "data = data.drop(columns = \"File\")"
   ]
  },
  {
   "cell_type": "code",
   "execution_count": 13,
   "id": "5f00f74f",
   "metadata": {},
   "outputs": [],
   "source": [
    "encoder = LabelEncoder()\n",
    "encoder.fit(y)\n",
    "Y = encoder.transform(y)"
   ]
  },
  {
   "cell_type": "code",
   "execution_count": 14,
   "id": "c86a443f",
   "metadata": {},
   "outputs": [
    {
     "data": {
      "text/plain": [
       "({0, 1, 2, 3, 4}, array([4, 4, 4, ..., 1, 1, 1]))"
      ]
     },
     "execution_count": 14,
     "metadata": {},
     "output_type": "execute_result"
    }
   ],
   "source": [
    "set(Y),Y"
   ]
  },
  {
   "cell_type": "code",
   "execution_count": 15,
   "id": "cf11002f",
   "metadata": {},
   "outputs": [
    {
     "data": {
      "text/plain": [
       "array(['Benign', 'Defacement', 'Malware', 'Phishing', 'Spam'],\n",
       "      dtype=object)"
      ]
     },
     "execution_count": 15,
     "metadata": {},
     "output_type": "execute_result"
    }
   ],
   "source": [
    "encoder.inverse_transform([0,1,2,3,4])"
   ]
  },
  {
   "cell_type": "code",
   "execution_count": 16,
   "id": "67708af1",
   "metadata": {
    "scrolled": false
   },
   "outputs": [
    {
     "data": {
      "text/html": [
       "<div>\n",
       "<style scoped>\n",
       "    .dataframe tbody tr th:only-of-type {\n",
       "        vertical-align: middle;\n",
       "    }\n",
       "\n",
       "    .dataframe tbody tr th {\n",
       "        vertical-align: top;\n",
       "    }\n",
       "\n",
       "    .dataframe thead th {\n",
       "        text-align: right;\n",
       "    }\n",
       "</style>\n",
       "<table border=\"1\" class=\"dataframe\">\n",
       "  <thead>\n",
       "    <tr style=\"text-align: right;\">\n",
       "      <th></th>\n",
       "      <th>0</th>\n",
       "      <th>1</th>\n",
       "      <th>2</th>\n",
       "      <th>3</th>\n",
       "      <th>4</th>\n",
       "      <th>5</th>\n",
       "      <th>6</th>\n",
       "      <th>7</th>\n",
       "      <th>8</th>\n",
       "      <th>9</th>\n",
       "      <th>...</th>\n",
       "      <th>11</th>\n",
       "      <th>12</th>\n",
       "      <th>13</th>\n",
       "      <th>14</th>\n",
       "      <th>15</th>\n",
       "      <th>16</th>\n",
       "      <th>17</th>\n",
       "      <th>18</th>\n",
       "      <th>19</th>\n",
       "      <th>20</th>\n",
       "    </tr>\n",
       "  </thead>\n",
       "  <tbody>\n",
       "    <tr>\n",
       "      <th>0</th>\n",
       "      <td>0.000017</td>\n",
       "      <td>0.087977</td>\n",
       "      <td>0.259553</td>\n",
       "      <td>0.00008</td>\n",
       "      <td>0.370703</td>\n",
       "      <td>1.0</td>\n",
       "      <td>0.0</td>\n",
       "      <td>0.0</td>\n",
       "      <td>0.059471</td>\n",
       "      <td>0.001558</td>\n",
       "      <td>...</td>\n",
       "      <td>0.000000</td>\n",
       "      <td>0.000000</td>\n",
       "      <td>0.0</td>\n",
       "      <td>0.0</td>\n",
       "      <td>0.000000</td>\n",
       "      <td>0.000000</td>\n",
       "      <td>0.000004</td>\n",
       "      <td>0.000000</td>\n",
       "      <td>0.0</td>\n",
       "      <td>0.044128</td>\n",
       "    </tr>\n",
       "    <tr>\n",
       "      <th>1</th>\n",
       "      <td>0.035658</td>\n",
       "      <td>0.417341</td>\n",
       "      <td>0.259553</td>\n",
       "      <td>0.00008</td>\n",
       "      <td>0.410333</td>\n",
       "      <td>1.0</td>\n",
       "      <td>0.0</td>\n",
       "      <td>0.0</td>\n",
       "      <td>0.026432</td>\n",
       "      <td>0.009346</td>\n",
       "      <td>...</td>\n",
       "      <td>0.000000</td>\n",
       "      <td>0.018234</td>\n",
       "      <td>0.0</td>\n",
       "      <td>0.0</td>\n",
       "      <td>0.922293</td>\n",
       "      <td>0.033325</td>\n",
       "      <td>0.039119</td>\n",
       "      <td>0.008193</td>\n",
       "      <td>0.0</td>\n",
       "      <td>0.027758</td>\n",
       "    </tr>\n",
       "    <tr>\n",
       "      <th>2</th>\n",
       "      <td>0.000417</td>\n",
       "      <td>0.266603</td>\n",
       "      <td>0.259553</td>\n",
       "      <td>0.00008</td>\n",
       "      <td>0.522309</td>\n",
       "      <td>1.0</td>\n",
       "      <td>0.0</td>\n",
       "      <td>0.0</td>\n",
       "      <td>0.000000</td>\n",
       "      <td>0.009346</td>\n",
       "      <td>...</td>\n",
       "      <td>0.000000</td>\n",
       "      <td>0.000960</td>\n",
       "      <td>0.0</td>\n",
       "      <td>0.0</td>\n",
       "      <td>0.000000</td>\n",
       "      <td>0.000000</td>\n",
       "      <td>0.000292</td>\n",
       "      <td>0.000000</td>\n",
       "      <td>0.0</td>\n",
       "      <td>0.019217</td>\n",
       "    </tr>\n",
       "    <tr>\n",
       "      <th>3</th>\n",
       "      <td>0.146569</td>\n",
       "      <td>0.314884</td>\n",
       "      <td>0.259553</td>\n",
       "      <td>0.00008</td>\n",
       "      <td>0.418158</td>\n",
       "      <td>1.0</td>\n",
       "      <td>0.0</td>\n",
       "      <td>0.0</td>\n",
       "      <td>0.028634</td>\n",
       "      <td>0.004673</td>\n",
       "      <td>...</td>\n",
       "      <td>0.000000</td>\n",
       "      <td>0.621881</td>\n",
       "      <td>0.0</td>\n",
       "      <td>0.0</td>\n",
       "      <td>0.312137</td>\n",
       "      <td>0.046359</td>\n",
       "      <td>0.121319</td>\n",
       "      <td>0.003675</td>\n",
       "      <td>0.0</td>\n",
       "      <td>0.023488</td>\n",
       "    </tr>\n",
       "    <tr>\n",
       "      <th>4</th>\n",
       "      <td>0.000022</td>\n",
       "      <td>0.272727</td>\n",
       "      <td>0.259553</td>\n",
       "      <td>0.00008</td>\n",
       "      <td>0.376423</td>\n",
       "      <td>1.0</td>\n",
       "      <td>0.0</td>\n",
       "      <td>0.0</td>\n",
       "      <td>0.030837</td>\n",
       "      <td>0.000000</td>\n",
       "      <td>...</td>\n",
       "      <td>0.111111</td>\n",
       "      <td>0.000960</td>\n",
       "      <td>0.0</td>\n",
       "      <td>0.0</td>\n",
       "      <td>0.000000</td>\n",
       "      <td>0.000000</td>\n",
       "      <td>0.000016</td>\n",
       "      <td>0.000000</td>\n",
       "      <td>0.0</td>\n",
       "      <td>0.045552</td>\n",
       "    </tr>\n",
       "    <tr>\n",
       "      <th>...</th>\n",
       "      <td>...</td>\n",
       "      <td>...</td>\n",
       "      <td>...</td>\n",
       "      <td>...</td>\n",
       "      <td>...</td>\n",
       "      <td>...</td>\n",
       "      <td>...</td>\n",
       "      <td>...</td>\n",
       "      <td>...</td>\n",
       "      <td>...</td>\n",
       "      <td>...</td>\n",
       "      <td>...</td>\n",
       "      <td>...</td>\n",
       "      <td>...</td>\n",
       "      <td>...</td>\n",
       "      <td>...</td>\n",
       "      <td>...</td>\n",
       "      <td>...</td>\n",
       "      <td>...</td>\n",
       "      <td>...</td>\n",
       "      <td>...</td>\n",
       "    </tr>\n",
       "    <tr>\n",
       "      <th>54526</th>\n",
       "      <td>0.000018</td>\n",
       "      <td>0.165289</td>\n",
       "      <td>0.259553</td>\n",
       "      <td>0.00008</td>\n",
       "      <td>0.356549</td>\n",
       "      <td>1.0</td>\n",
       "      <td>0.0</td>\n",
       "      <td>0.0</td>\n",
       "      <td>0.017621</td>\n",
       "      <td>0.000000</td>\n",
       "      <td>...</td>\n",
       "      <td>0.277778</td>\n",
       "      <td>0.000960</td>\n",
       "      <td>0.0</td>\n",
       "      <td>0.0</td>\n",
       "      <td>0.000000</td>\n",
       "      <td>0.000000</td>\n",
       "      <td>0.000008</td>\n",
       "      <td>0.000000</td>\n",
       "      <td>0.0</td>\n",
       "      <td>0.096797</td>\n",
       "    </tr>\n",
       "    <tr>\n",
       "      <th>54527</th>\n",
       "      <td>0.474930</td>\n",
       "      <td>0.283095</td>\n",
       "      <td>0.259553</td>\n",
       "      <td>0.00008</td>\n",
       "      <td>0.457889</td>\n",
       "      <td>1.0</td>\n",
       "      <td>0.0</td>\n",
       "      <td>0.0</td>\n",
       "      <td>0.013216</td>\n",
       "      <td>0.003115</td>\n",
       "      <td>...</td>\n",
       "      <td>0.000000</td>\n",
       "      <td>0.002879</td>\n",
       "      <td>0.0</td>\n",
       "      <td>0.0</td>\n",
       "      <td>0.011467</td>\n",
       "      <td>0.005518</td>\n",
       "      <td>0.353425</td>\n",
       "      <td>0.000150</td>\n",
       "      <td>0.0</td>\n",
       "      <td>0.042705</td>\n",
       "    </tr>\n",
       "    <tr>\n",
       "      <th>54528</th>\n",
       "      <td>0.000101</td>\n",
       "      <td>0.253353</td>\n",
       "      <td>0.259553</td>\n",
       "      <td>0.00008</td>\n",
       "      <td>0.525135</td>\n",
       "      <td>1.0</td>\n",
       "      <td>0.0</td>\n",
       "      <td>0.0</td>\n",
       "      <td>0.006608</td>\n",
       "      <td>0.000000</td>\n",
       "      <td>...</td>\n",
       "      <td>0.000000</td>\n",
       "      <td>0.000960</td>\n",
       "      <td>0.0</td>\n",
       "      <td>0.0</td>\n",
       "      <td>0.000000</td>\n",
       "      <td>0.000000</td>\n",
       "      <td>0.000067</td>\n",
       "      <td>0.000000</td>\n",
       "      <td>0.0</td>\n",
       "      <td>0.032740</td>\n",
       "    </tr>\n",
       "    <tr>\n",
       "      <th>54529</th>\n",
       "      <td>0.000000</td>\n",
       "      <td>0.000000</td>\n",
       "      <td>0.259553</td>\n",
       "      <td>0.00008</td>\n",
       "      <td>0.615560</td>\n",
       "      <td>1.0</td>\n",
       "      <td>0.0</td>\n",
       "      <td>0.0</td>\n",
       "      <td>0.004405</td>\n",
       "      <td>0.000000</td>\n",
       "      <td>...</td>\n",
       "      <td>0.000000</td>\n",
       "      <td>0.000000</td>\n",
       "      <td>0.0</td>\n",
       "      <td>0.0</td>\n",
       "      <td>0.000000</td>\n",
       "      <td>0.000000</td>\n",
       "      <td>0.000000</td>\n",
       "      <td>0.000000</td>\n",
       "      <td>0.0</td>\n",
       "      <td>0.006406</td>\n",
       "    </tr>\n",
       "    <tr>\n",
       "      <th>54530</th>\n",
       "      <td>0.000279</td>\n",
       "      <td>0.500269</td>\n",
       "      <td>0.259553</td>\n",
       "      <td>0.00008</td>\n",
       "      <td>0.336741</td>\n",
       "      <td>1.0</td>\n",
       "      <td>0.0</td>\n",
       "      <td>0.0</td>\n",
       "      <td>0.013216</td>\n",
       "      <td>0.001558</td>\n",
       "      <td>...</td>\n",
       "      <td>0.166667</td>\n",
       "      <td>0.000000</td>\n",
       "      <td>0.0</td>\n",
       "      <td>0.0</td>\n",
       "      <td>0.000000</td>\n",
       "      <td>0.000000</td>\n",
       "      <td>0.000367</td>\n",
       "      <td>0.000000</td>\n",
       "      <td>0.0</td>\n",
       "      <td>0.058363</td>\n",
       "    </tr>\n",
       "  </tbody>\n",
       "</table>\n",
       "<p>54531 rows × 21 columns</p>\n",
       "</div>"
      ],
      "text/plain": [
       "             0         1         2        3         4    5    6    7   \\\n",
       "0      0.000017  0.087977  0.259553  0.00008  0.370703  1.0  0.0  0.0   \n",
       "1      0.035658  0.417341  0.259553  0.00008  0.410333  1.0  0.0  0.0   \n",
       "2      0.000417  0.266603  0.259553  0.00008  0.522309  1.0  0.0  0.0   \n",
       "3      0.146569  0.314884  0.259553  0.00008  0.418158  1.0  0.0  0.0   \n",
       "4      0.000022  0.272727  0.259553  0.00008  0.376423  1.0  0.0  0.0   \n",
       "...         ...       ...       ...      ...       ...  ...  ...  ...   \n",
       "54526  0.000018  0.165289  0.259553  0.00008  0.356549  1.0  0.0  0.0   \n",
       "54527  0.474930  0.283095  0.259553  0.00008  0.457889  1.0  0.0  0.0   \n",
       "54528  0.000101  0.253353  0.259553  0.00008  0.525135  1.0  0.0  0.0   \n",
       "54529  0.000000  0.000000  0.259553  0.00008  0.615560  1.0  0.0  0.0   \n",
       "54530  0.000279  0.500269  0.259553  0.00008  0.336741  1.0  0.0  0.0   \n",
       "\n",
       "             8         9   ...        11        12   13   14        15  \\\n",
       "0      0.059471  0.001558  ...  0.000000  0.000000  0.0  0.0  0.000000   \n",
       "1      0.026432  0.009346  ...  0.000000  0.018234  0.0  0.0  0.922293   \n",
       "2      0.000000  0.009346  ...  0.000000  0.000960  0.0  0.0  0.000000   \n",
       "3      0.028634  0.004673  ...  0.000000  0.621881  0.0  0.0  0.312137   \n",
       "4      0.030837  0.000000  ...  0.111111  0.000960  0.0  0.0  0.000000   \n",
       "...         ...       ...  ...       ...       ...  ...  ...       ...   \n",
       "54526  0.017621  0.000000  ...  0.277778  0.000960  0.0  0.0  0.000000   \n",
       "54527  0.013216  0.003115  ...  0.000000  0.002879  0.0  0.0  0.011467   \n",
       "54528  0.006608  0.000000  ...  0.000000  0.000960  0.0  0.0  0.000000   \n",
       "54529  0.004405  0.000000  ...  0.000000  0.000000  0.0  0.0  0.000000   \n",
       "54530  0.013216  0.001558  ...  0.166667  0.000000  0.0  0.0  0.000000   \n",
       "\n",
       "             16        17        18   19        20  \n",
       "0      0.000000  0.000004  0.000000  0.0  0.044128  \n",
       "1      0.033325  0.039119  0.008193  0.0  0.027758  \n",
       "2      0.000000  0.000292  0.000000  0.0  0.019217  \n",
       "3      0.046359  0.121319  0.003675  0.0  0.023488  \n",
       "4      0.000000  0.000016  0.000000  0.0  0.045552  \n",
       "...         ...       ...       ...  ...       ...  \n",
       "54526  0.000000  0.000008  0.000000  0.0  0.096797  \n",
       "54527  0.005518  0.353425  0.000150  0.0  0.042705  \n",
       "54528  0.000000  0.000067  0.000000  0.0  0.032740  \n",
       "54529  0.000000  0.000000  0.000000  0.0  0.006406  \n",
       "54530  0.000000  0.000367  0.000000  0.0  0.058363  \n",
       "\n",
       "[54531 rows x 21 columns]"
      ]
     },
     "execution_count": 16,
     "metadata": {},
     "output_type": "execute_result"
    }
   ],
   "source": [
    "scaler = MinMaxScaler(feature_range=(0, 1))#basic normalisation\n",
    "X = scaler.fit_transform(data)\n",
    "X = pd.DataFrame(X)# Fitting back to data Frame\n",
    "X"
   ]
  },
  {
   "cell_type": "code",
   "execution_count": 17,
   "id": "d28f0678",
   "metadata": {},
   "outputs": [
    {
     "name": "stdout",
     "output_type": "stream",
     "text": [
      "There are  21 Columns and they are:\n",
      "\n",
      " Index(['bodyLength', 'bscr', 'dse', 'dsr', 'entropy', 'hasHttp', 'hasHttps',\n",
      "       'has_ip', 'numDigits', 'numImages', 'numLinks', 'numParams',\n",
      "       'numTitles', 'num_%20', 'num_@', 'sbr', 'scriptLength', 'specialChars',\n",
      "       'sscr', 'urlIsLive', 'urlLength'],\n",
      "      dtype='object')\n"
     ]
    }
   ],
   "source": [
    "print(\"There are \",len(data.columns),\"Columns and they are:\\n\\n\",data.columns)"
   ]
  },
  {
   "cell_type": "code",
   "execution_count": 18,
   "id": "36d48ffb",
   "metadata": {},
   "outputs": [],
   "source": [
    "from tensorflow.keras.models import Sequential\n",
    "from tensorflow.keras.layers import LSTM, Dense, Dropout, Masking, Embedding\n",
    "\n",
    "input_dim = len(data.columns)\n",
    "model = Sequential()\n",
    "model.add(Dense(256, input_dim = input_dim , activation = 'relu'))\n",
    "model.add(Dense(128, activation = 'relu'))\n",
    "model.add(Dense(64, activation = 'relu'))\n",
    "model.add(Dense(32, activation = 'relu'))\n",
    "model.add(Dense(16, activation = 'relu'))\n",
    "model.add(Dense(5, activation = 'softmax'))\n",
    "\n",
    "model.compile(loss = 'categorical_crossentropy' , optimizer = 'adam' , metrics = ['accuracy'] )"
   ]
  },
  {
   "cell_type": "code",
   "execution_count": 19,
   "id": "5042bf5c",
   "metadata": {},
   "outputs": [
    {
     "name": "stdout",
     "output_type": "stream",
     "text": [
      "Model: \"sequential\"\n",
      "_________________________________________________________________\n",
      "Layer (type)                 Output Shape              Param #   \n",
      "=================================================================\n",
      "dense (Dense)                (None, 256)               5632      \n",
      "_________________________________________________________________\n",
      "dense_1 (Dense)              (None, 128)               32896     \n",
      "_________________________________________________________________\n",
      "dense_2 (Dense)              (None, 64)                8256      \n",
      "_________________________________________________________________\n",
      "dense_3 (Dense)              (None, 32)                2080      \n",
      "_________________________________________________________________\n",
      "dense_4 (Dense)              (None, 16)                528       \n",
      "_________________________________________________________________\n",
      "dense_5 (Dense)              (None, 5)                 85        \n",
      "=================================================================\n",
      "Total params: 49,477\n",
      "Trainable params: 49,477\n",
      "Non-trainable params: 0\n",
      "_________________________________________________________________\n"
     ]
    }
   ],
   "source": [
    "model.summary()"
   ]
  },
  {
   "cell_type": "code",
   "execution_count": 20,
   "id": "cef2426f",
   "metadata": {},
   "outputs": [
    {
     "data": {
      "text/plain": [
       "(54531, 21)"
      ]
     },
     "execution_count": 20,
     "metadata": {},
     "output_type": "execute_result"
    }
   ],
   "source": [
    "X.shape"
   ]
  },
  {
   "cell_type": "code",
   "execution_count": 21,
   "id": "3fdfcc34",
   "metadata": {},
   "outputs": [],
   "source": [
    "X_train, X_test, y_train, y_test = train_test_split(X, Y, test_size=0.25, random_state=42)"
   ]
  },
  {
   "cell_type": "code",
   "execution_count": 22,
   "id": "f842d70a",
   "metadata": {
    "scrolled": false
   },
   "outputs": [
    {
     "name": "stdout",
     "output_type": "stream",
     "text": [
      "Epoch 1/50\n",
      "224/224 [==============================] - 5s 11ms/step - loss: 1.3970 - accuracy: 0.4134 - val_loss: 1.0133 - val_accuracy: 0.5954\n",
      "Epoch 2/50\n",
      "224/224 [==============================] - 2s 10ms/step - loss: 0.9640 - accuracy: 0.6141 - val_loss: 0.8350 - val_accuracy: 0.6793\n",
      "Epoch 3/50\n",
      "224/224 [==============================] - 2s 7ms/step - loss: 0.8272 - accuracy: 0.6721 - val_loss: 0.7573 - val_accuracy: 0.7090\n",
      "Epoch 4/50\n",
      "224/224 [==============================] - 2s 8ms/step - loss: 0.7682 - accuracy: 0.6953 - val_loss: 0.7663 - val_accuracy: 0.6985\n",
      "Epoch 5/50\n",
      "224/224 [==============================] - 2s 7ms/step - loss: 0.7062 - accuracy: 0.7202 - val_loss: 0.6596 - val_accuracy: 0.7465\n",
      "Epoch 6/50\n",
      "224/224 [==============================] - 2s 8ms/step - loss: 0.6780 - accuracy: 0.7375 - val_loss: 0.6511 - val_accuracy: 0.7544\n",
      "Epoch 7/50\n",
      "224/224 [==============================] - 2s 7ms/step - loss: 0.6305 - accuracy: 0.7560 - val_loss: 0.6095 - val_accuracy: 0.7708\n",
      "Epoch 8/50\n",
      "224/224 [==============================] - 2s 7ms/step - loss: 0.6172 - accuracy: 0.7596 - val_loss: 0.5955 - val_accuracy: 0.7795\n",
      "Epoch 9/50\n",
      "224/224 [==============================] - 2s 8ms/step - loss: 0.6021 - accuracy: 0.7690 - val_loss: 0.5902 - val_accuracy: 0.7778\n",
      "Epoch 10/50\n",
      "224/224 [==============================] - 2s 8ms/step - loss: 0.5900 - accuracy: 0.7694 - val_loss: 0.5923 - val_accuracy: 0.7750\n",
      "Epoch 11/50\n",
      "224/224 [==============================] - 2s 7ms/step - loss: 0.5591 - accuracy: 0.7826 - val_loss: 0.5596 - val_accuracy: 0.7811\n",
      "Epoch 12/50\n",
      "224/224 [==============================] - 2s 7ms/step - loss: 0.5632 - accuracy: 0.7801 - val_loss: 0.5440 - val_accuracy: 0.7919\n",
      "Epoch 13/50\n",
      "224/224 [==============================] - 2s 7ms/step - loss: 0.5369 - accuracy: 0.7881 - val_loss: 0.5410 - val_accuracy: 0.7948\n",
      "Epoch 14/50\n",
      "224/224 [==============================] - 2s 7ms/step - loss: 0.5364 - accuracy: 0.7924 - val_loss: 0.5446 - val_accuracy: 0.7839\n",
      "Epoch 15/50\n",
      "224/224 [==============================] - 2s 7ms/step - loss: 0.5235 - accuracy: 0.7944 - val_loss: 0.5521 - val_accuracy: 0.7896\n",
      "Epoch 16/50\n",
      "224/224 [==============================] - 2s 7ms/step - loss: 0.5190 - accuracy: 0.7994 - val_loss: 0.5694 - val_accuracy: 0.7825\n",
      "Epoch 17/50\n",
      "224/224 [==============================] - 2s 7ms/step - loss: 0.5202 - accuracy: 0.7940 - val_loss: 0.5238 - val_accuracy: 0.7983\n",
      "Epoch 18/50\n",
      "224/224 [==============================] - 2s 7ms/step - loss: 0.4997 - accuracy: 0.8033 - val_loss: 0.5391 - val_accuracy: 0.7930\n",
      "Epoch 19/50\n",
      "224/224 [==============================] - 2s 7ms/step - loss: 0.5013 - accuracy: 0.8038 - val_loss: 0.5014 - val_accuracy: 0.8090\n",
      "Epoch 20/50\n",
      "224/224 [==============================] - 2s 7ms/step - loss: 0.5016 - accuracy: 0.8053 - val_loss: 0.5094 - val_accuracy: 0.8049\n",
      "Epoch 21/50\n",
      "224/224 [==============================] - 2s 7ms/step - loss: 0.4943 - accuracy: 0.8080 - val_loss: 0.5088 - val_accuracy: 0.8077\n",
      "Epoch 22/50\n",
      "224/224 [==============================] - 2s 7ms/step - loss: 0.4830 - accuracy: 0.8134 - val_loss: 0.5021 - val_accuracy: 0.8027\n",
      "Epoch 23/50\n",
      "224/224 [==============================] - 1s 6ms/step - loss: 0.4814 - accuracy: 0.8121 - val_loss: 0.4875 - val_accuracy: 0.8112\n",
      "Epoch 24/50\n",
      "224/224 [==============================] - 2s 7ms/step - loss: 0.4717 - accuracy: 0.8153 - val_loss: 0.4970 - val_accuracy: 0.8096\n",
      "Epoch 25/50\n",
      "224/224 [==============================] - 2s 7ms/step - loss: 0.4766 - accuracy: 0.8134 - val_loss: 0.4918 - val_accuracy: 0.8068\n",
      "Epoch 26/50\n",
      "224/224 [==============================] - 2s 7ms/step - loss: 0.4647 - accuracy: 0.8189 - val_loss: 0.4901 - val_accuracy: 0.8088\n",
      "Epoch 27/50\n",
      "224/224 [==============================] - 2s 7ms/step - loss: 0.4536 - accuracy: 0.8225 - val_loss: 0.4797 - val_accuracy: 0.8136\n",
      "Epoch 28/50\n",
      "224/224 [==============================] - 2s 7ms/step - loss: 0.4655 - accuracy: 0.8191 - val_loss: 0.5098 - val_accuracy: 0.8077\n",
      "Epoch 29/50\n",
      "224/224 [==============================] - 2s 7ms/step - loss: 0.4519 - accuracy: 0.8237 - val_loss: 0.5052 - val_accuracy: 0.8090\n",
      "Epoch 30/50\n",
      "224/224 [==============================] - 2s 8ms/step - loss: 0.4547 - accuracy: 0.8243 - val_loss: 0.4926 - val_accuracy: 0.8127\n",
      "Epoch 31/50\n",
      "224/224 [==============================] - 2s 8ms/step - loss: 0.4453 - accuracy: 0.8272 - val_loss: 0.4794 - val_accuracy: 0.8209\n",
      "Epoch 32/50\n",
      "224/224 [==============================] - 2s 8ms/step - loss: 0.4532 - accuracy: 0.8217 - val_loss: 0.4590 - val_accuracy: 0.8280\n",
      "Epoch 33/50\n",
      "224/224 [==============================] - 2s 7ms/step - loss: 0.4440 - accuracy: 0.8291 - val_loss: 0.5044 - val_accuracy: 0.8036\n",
      "Epoch 34/50\n",
      "224/224 [==============================] - 2s 7ms/step - loss: 0.4348 - accuracy: 0.8281 - val_loss: 0.4705 - val_accuracy: 0.8211\n",
      "Epoch 35/50\n",
      "224/224 [==============================] - 1s 6ms/step - loss: 0.4340 - accuracy: 0.8299 - val_loss: 0.4747 - val_accuracy: 0.8205\n",
      "Epoch 36/50\n",
      "224/224 [==============================] - 1s 7ms/step - loss: 0.4350 - accuracy: 0.8301 - val_loss: 0.4755 - val_accuracy: 0.8208\n",
      "Epoch 37/50\n",
      "224/224 [==============================] - 2s 7ms/step - loss: 0.4227 - accuracy: 0.8354 - val_loss: 0.4534 - val_accuracy: 0.8311\n",
      "Epoch 38/50\n",
      "224/224 [==============================] - 2s 7ms/step - loss: 0.4291 - accuracy: 0.8304 - val_loss: 0.4496 - val_accuracy: 0.8336\n",
      "Epoch 39/50\n",
      "224/224 [==============================] - 1s 6ms/step - loss: 0.4199 - accuracy: 0.8358 - val_loss: 0.4774 - val_accuracy: 0.8164\n",
      "Epoch 40/50\n",
      "224/224 [==============================] - 2s 7ms/step - loss: 0.4230 - accuracy: 0.8356 - val_loss: 0.4714 - val_accuracy: 0.8168\n",
      "Epoch 41/50\n",
      "224/224 [==============================] - 2s 7ms/step - loss: 0.4294 - accuracy: 0.8341 - val_loss: 0.4506 - val_accuracy: 0.8319\n",
      "Epoch 42/50\n",
      "224/224 [==============================] - 2s 7ms/step - loss: 0.4052 - accuracy: 0.8447 - val_loss: 0.4663 - val_accuracy: 0.8216\n",
      "Epoch 43/50\n",
      "224/224 [==============================] - 2s 7ms/step - loss: 0.4145 - accuracy: 0.8364 - val_loss: 0.4365 - val_accuracy: 0.8369\n",
      "Epoch 44/50\n",
      "224/224 [==============================] - 2s 7ms/step - loss: 0.4018 - accuracy: 0.8425 - val_loss: 0.4520 - val_accuracy: 0.8252\n",
      "Epoch 45/50\n",
      "224/224 [==============================] - 2s 7ms/step - loss: 0.4040 - accuracy: 0.8441 - val_loss: 0.4421 - val_accuracy: 0.8358\n",
      "Epoch 46/50\n",
      "224/224 [==============================] - 2s 7ms/step - loss: 0.3984 - accuracy: 0.8455 - val_loss: 0.4547 - val_accuracy: 0.8278\n",
      "Epoch 47/50\n",
      "224/224 [==============================] - 2s 7ms/step - loss: 0.4008 - accuracy: 0.8439 - val_loss: 0.4362 - val_accuracy: 0.8384\n",
      "Epoch 48/50\n",
      "224/224 [==============================] - 2s 7ms/step - loss: 0.3882 - accuracy: 0.8492 - val_loss: 0.4461 - val_accuracy: 0.8328\n",
      "Epoch 49/50\n",
      "224/224 [==============================] - 2s 7ms/step - loss: 0.3907 - accuracy: 0.8444 - val_loss: 0.4302 - val_accuracy: 0.8434\n",
      "Epoch 50/50\n",
      "224/224 [==============================] - 1s 6ms/step - loss: 0.3939 - accuracy: 0.8484 - val_loss: 0.4500 - val_accuracy: 0.8315\n"
     ]
    }
   ],
   "source": [
    "history = model.fit(X_train,to_categorical(y_train),epochs = 50,validation_split=0.3, batch_size = 128)"
   ]
  },
  {
   "cell_type": "code",
   "execution_count": 23,
   "id": "0430bb3a",
   "metadata": {},
   "outputs": [],
   "source": [
    "import matplotlib.pyplot as plt"
   ]
  },
  {
   "cell_type": "code",
   "execution_count": 24,
   "id": "98c1f36c",
   "metadata": {},
   "outputs": [
    {
     "data": {
      "image/png": "[encoded data removed]",
      "text/plain": [
       "<Figure size 432x288 with 1 Axes>"
      ]
     },
     "metadata": {
      "needs_background": "light"
     },
     "output_type": "display_data"
    },
    {
     "data": {
      "image/png": "[encoded data removed]",
      "text/plain": [
       "<Figure size 432x288 with 1 Axes>"
      ]
     },
     "metadata": {
      "needs_background": "light"
     },
     "output_type": "display_data"
    }
   ],
   "source": [
    "def plot_graphs(history, string):\n",
    "  plt.plot(history.history[string])\n",
    "  plt.plot(history.history['val_'+string])\n",
    "  plt.xlabel(\"Epochs\")\n",
    "  plt.ylabel(string)\n",
    "  plt.legend([string, 'val_'+string])\n",
    "  plt.show()\n",
    "  \n",
    "plot_graphs(history, \"accuracy\")\n",
    "plot_graphs(history, \"loss\")"
   ]
  },
  {
   "cell_type": "code",
   "execution_count": 25,
   "id": "0cd8c78b",
   "metadata": {},
   "outputs": [
    {
     "data": {
      "text/plain": [
       "array([[9.9971002e-01, 8.7089909e-08, 1.4047509e-09, 2.8987604e-04,\n",
       "        1.3787318e-13],\n",
       "       [6.1271089e-04, 1.1115680e-01, 7.9697073e-01, 4.9971957e-02,\n",
       "        4.1287787e-02],\n",
       "       [1.3561847e-10, 7.9358488e-01, 2.7291460e-06, 1.6111873e-01,\n",
       "        4.5293640e-02],\n",
       "       ...,\n",
       "       [2.9213342e-01, 2.8734014e-03, 7.0496231e-01, 3.0234693e-05,\n",
       "        5.5907037e-07],\n",
       "       [9.9402690e-01, 3.2269664e-03, 1.4194794e-03, 1.3210578e-03,\n",
       "        5.7032280e-06],\n",
       "       [3.6554079e-06, 9.8662042e-08, 1.8332331e-10, 4.9529768e-07,\n",
       "        9.9999571e-01]], dtype=float32)"
      ]
     },
     "execution_count": 25,
     "metadata": {},
     "output_type": "execute_result"
    }
   ],
   "source": [
    "y_pred = model.predict(X_test)\n",
    "y_pred"
   ]
  },
  {
   "cell_type": "code",
   "execution_count": 26,
   "id": "0e451f46",
   "metadata": {},
   "outputs": [
    {
     "data": {
      "text/plain": [
       "array([0, 2, 1, ..., 2, 0, 4], dtype=int64)"
      ]
     },
     "execution_count": 26,
     "metadata": {},
     "output_type": "execute_result"
    }
   ],
   "source": [
    "predicted = np.argmax(y_pred, axis=1)\n",
    "predicted"
   ]
  },
  {
   "cell_type": "code",
   "execution_count": 27,
   "id": "dfe82fc3",
   "metadata": {},
   "outputs": [
    {
     "name": "stdout",
     "output_type": "stream",
     "text": [
      "Test Accuracy of Base Keras Model:  0.8406807012396391\n"
     ]
    }
   ],
   "source": [
    "from sklearn.metrics import classification_report\n",
    "print(\"Test Accuracy of Base Keras Model: \",accuracy_score(y_test,predicted))"
   ]
  },
  {
   "cell_type": "code",
   "execution_count": 28,
   "id": "caec4f26",
   "metadata": {},
   "outputs": [
    {
     "name": "stdout",
     "output_type": "stream",
     "text": [
      "              precision    recall  f1-score   support\n",
      "\n",
      "      Benign       0.92      0.96      0.94      2735\n",
      "  Defacement       0.80      0.70      0.75      2499\n",
      "     Malware       0.83      0.89      0.86      2834\n",
      "    Phishing       0.85      0.70      0.77      2477\n",
      "        Spam       0.80      0.91      0.85      3088\n",
      "\n",
      "    accuracy                           0.84     13633\n",
      "   macro avg       0.84      0.83      0.83     13633\n",
      "weighted avg       0.84      0.84      0.84     13633\n",
      "\n"
     ]
    }
   ],
   "source": [
    "target_names = ['Benign','Defacement','Malware','Phishing','Spam']\n",
    "print(classification_report(y_test, predicted, target_names=target_names))"
   ]
  },
  {
   "cell_type": "code",
   "execution_count": 29,
   "id": "341aff21",
   "metadata": {},
   "outputs": [],
   "source": [
    "KERAS_MODEL_NAME = \"tf_model_URL_Clasification.h5\""
   ]
  },
  {
   "cell_type": "code",
   "execution_count": 30,
   "id": "76f0a100",
   "metadata": {},
   "outputs": [],
   "source": [
    "model.save(KERAS_MODEL_NAME)"
   ]
  },
  {
   "cell_type": "code",
   "execution_count": 31,
   "id": "a0a52133",
   "metadata": {},
   "outputs": [
    {
     "name": "stdout",
     "output_type": "stream",
     "text": [
      "File size: 635.387 Kilobytes\n"
     ]
    }
   ],
   "source": [
    "convert_bytes(get_file_size(KERAS_MODEL_NAME), \"KB\")"
   ]
  },
  {
   "cell_type": "code",
   "execution_count": 32,
   "id": "793cc7ff",
   "metadata": {},
   "outputs": [
    {
     "name": "stdout",
     "output_type": "stream",
     "text": [
      "File size: 0.62 Megabytes\n"
     ]
    }
   ],
   "source": [
    "convert_bytes(get_file_size(KERAS_MODEL_NAME), \"MB\")"
   ]
  },
  {
   "cell_type": "code",
   "execution_count": null,
   "id": "2b87cc27",
   "metadata": {},
   "outputs": [],
   "source": []
  },
  {
   "cell_type": "markdown",
   "id": "4072a9d2",
   "metadata": {},
   "source": [
    "<h1> <u>TF Lite MODEL</u></h1>"
   ]
  },
  {
   "cell_type": "markdown",
   "id": "b1a6ec91",
   "metadata": {},
   "source": [
    "Here We are createing a TFLite model using post Quantization technique"
   ]
  },
  {
   "cell_type": "markdown",
   "id": "d69391c8",
   "metadata": {},
   "source": [
    "<h1> 1) <u>Dynamic range quantization</u></h1>"
   ]
  },
  {
   "cell_type": "code",
   "execution_count": 32,
   "id": "92245895",
   "metadata": {},
   "outputs": [],
   "source": [
    "TF_LITE_MODEL_FILE_NAME_dynamic = \"tf_lite_model_dynamic.tflite\""
   ]
  },
  {
   "cell_type": "code",
   "execution_count": 33,
   "id": "bc023ca4",
   "metadata": {
    "scrolled": true
   },
   "outputs": [
    {
     "name": "stdout",
     "output_type": "stream",
     "text": [
      "INFO:tensorflow:Assets written to: C:\\Users\\phvpa\\AppData\\Local\\Temp\\tmpe6zlmpos\\assets\n"
     ]
    }
   ],
   "source": [
    "converter = tf.lite.TFLiteConverter.from_keras_model(model)\n",
    "converter.optimizations = [tf.lite.Optimize.DEFAULT]\n",
    "tflite_model_Dynamic = converter.convert()"
   ]
  },
  {
   "cell_type": "code",
   "execution_count": 34,
   "id": "c3621cf5",
   "metadata": {},
   "outputs": [
    {
     "data": {
      "text/plain": [
       "56096"
      ]
     },
     "execution_count": 34,
     "metadata": {},
     "output_type": "execute_result"
    }
   ],
   "source": [
    "tflite_model_name = TF_LITE_MODEL_FILE_NAME_dynamic\n",
    "open(tflite_model_name, \"wb\").write(tflite_model_Dynamic)"
   ]
  },
  {
   "cell_type": "code",
   "execution_count": 35,
   "id": "bcd949e1",
   "metadata": {},
   "outputs": [
    {
     "name": "stdout",
     "output_type": "stream",
     "text": [
      "File size: 54.781 Kilobytes\n"
     ]
    }
   ],
   "source": [
    "convert_bytes(get_file_size(TF_LITE_MODEL_FILE_NAME_dynamic), \"KB\")"
   ]
  },
  {
   "cell_type": "markdown",
   "id": "2604ac34",
   "metadata": {},
   "source": [
    "## Check Input Tensor Shape"
   ]
  },
  {
   "cell_type": "code",
   "execution_count": 36,
   "id": "e7f761ef",
   "metadata": {},
   "outputs": [],
   "source": [
    "interpreter = tf.lite.Interpreter(model_path = TF_LITE_MODEL_FILE_NAME_dynamic) # By creating inpterpreter we are getting i/p and o/p detailes\n",
    "input_details = interpreter.get_input_details()\n",
    "output_details = interpreter.get_output_details()"
   ]
  },
  {
   "cell_type": "markdown",
   "id": "c63a3525",
   "metadata": {},
   "source": [
    "## Resize Tensor Shape"
   ]
  },
  {
   "cell_type": "code",
   "execution_count": 37,
   "id": "7ea05733",
   "metadata": {},
   "outputs": [],
   "source": [
    "#By using the resize_tensor_input we are passing the new dimmension we want to input\n",
    "interpreter.resize_tensor_input(input_details[0]['index'], (13633, 21))\n",
    "interpreter.resize_tensor_input(output_details[0]['index'], (13633, 5))\n",
    "#allocate_tensor() object for the interpreter object\n",
    "interpreter.allocate_tensors()\n",
    "input_details = interpreter.get_input_details()\n",
    "output_details = interpreter.get_output_details()"
   ]
  },
  {
   "cell_type": "code",
   "execution_count": 38,
   "id": "308083bd",
   "metadata": {},
   "outputs": [],
   "source": [
    "test_urls_numpy = np.array(X_test, dtype=np.float32)"
   ]
  },
  {
   "cell_type": "code",
   "execution_count": 39,
   "id": "3aa3d1ee",
   "metadata": {},
   "outputs": [
    {
     "name": "stdout",
     "output_type": "stream",
     "text": [
      "Prediction results shape: (13633, 5)\n"
     ]
    }
   ],
   "source": [
    "interpreter.set_tensor(input_details[0]['index'], test_urls_numpy)\n",
    "interpreter.invoke()\n",
    "tflite_model_predictions = interpreter.get_tensor(output_details[0]['index'])\n",
    "print(\"Prediction results shape:\", tflite_model_predictions.shape)\n",
    "prediction_classes = np.argmax(tflite_model_predictions, axis=1)"
   ]
  },
  {
   "cell_type": "code",
   "execution_count": 40,
   "id": "c505e7a8",
   "metadata": {},
   "outputs": [
    {
     "name": "stdout",
     "output_type": "stream",
     "text": [
      "Test accuracy TFLITE model : 0.8121469962590773\n"
     ]
    }
   ],
   "source": [
    "acc = accuracy_score(prediction_classes, y_test)\n",
    "print('Test accuracy TFLITE model :', acc)"
   ]
  },
  {
   "cell_type": "markdown",
   "id": "5b9c844b",
   "metadata": {},
   "source": [
    "<h1> 2) <u> Integer only Quantisation</u></h1>"
   ]
  },
  {
   "cell_type": "markdown",
   "id": "1c5802eb",
   "metadata": {},
   "source": [
    "Here We are createing a TFLite model using post Quantization technique"
   ]
  },
  {
   "cell_type": "code",
   "execution_count": 33,
   "id": "f65fef0f",
   "metadata": {},
   "outputs": [],
   "source": [
    "TF_LITE_MODEL_FILE_NAME_intonly = \"tf_lite_model_intonly.tflite\""
   ]
  },
  {
   "cell_type": "code",
   "execution_count": 35,
   "id": "a01946ce",
   "metadata": {},
   "outputs": [
    {
     "name": "stdout",
     "output_type": "stream",
     "text": [
      "INFO:tensorflow:Assets written to: C:\\Users\\phvpa\\AppData\\Local\\Temp\\tmpag_vwzq0\\assets\n"
     ]
    },
    {
     "name": "stderr",
     "output_type": "stream",
     "text": [
      "INFO:tensorflow:Assets written to: C:\\Users\\phvpa\\AppData\\Local\\Temp\\tmpag_vwzq0\\assets\n"
     ]
    },
    {
     "ename": "AttributeError",
     "evalue": "module 'tensorflow.lite.python.schema_py_generated' has no attribute 'Model'",
     "output_type": "error",
     "traceback": [
      "\u001b[1;31m---------------------------------------------------------------------------\u001b[0m",
      "\u001b[1;31mAttributeError\u001b[0m                            Traceback (most recent call last)",
      "\u001b[1;32m<ipython-input-35-d2df40834b99>\u001b[0m in \u001b[0;36m<module>\u001b[1;34m\u001b[0m\n\u001b[0;32m     11\u001b[0m \u001b[0mtf_lite_converter\u001b[0m\u001b[1;33m.\u001b[0m\u001b[0minference_input_type\u001b[0m \u001b[1;33m=\u001b[0m \u001b[0mtf\u001b[0m\u001b[1;33m.\u001b[0m\u001b[0muint8\u001b[0m\u001b[1;33m\u001b[0m\u001b[1;33m\u001b[0m\u001b[0m\n\u001b[0;32m     12\u001b[0m \u001b[0mtf_lite_converter\u001b[0m\u001b[1;33m.\u001b[0m\u001b[0minference_output_type\u001b[0m \u001b[1;33m=\u001b[0m \u001b[0mtf\u001b[0m\u001b[1;33m.\u001b[0m\u001b[0muint8\u001b[0m\u001b[1;33m\u001b[0m\u001b[1;33m\u001b[0m\u001b[0m\n\u001b[1;32m---> 13\u001b[1;33m \u001b[0mtflite_model_Integer\u001b[0m \u001b[1;33m=\u001b[0m \u001b[0mtf_lite_converter\u001b[0m\u001b[1;33m.\u001b[0m\u001b[0mconvert\u001b[0m\u001b[1;33m(\u001b[0m\u001b[1;33m)\u001b[0m\u001b[1;33m\u001b[0m\u001b[1;33m\u001b[0m\u001b[0m\n\u001b[0m",
      "\u001b[1;32m~\\anaconda3\\envs\\NLP\\lib\\site-packages\\tensorflow\\lite\\python\\lite.py\u001b[0m in \u001b[0;36mconvert\u001b[1;34m(self)\u001b[0m\n\u001b[0;32m    871\u001b[0m           graph=frozen_func.graph)\n\u001b[0;32m    872\u001b[0m \u001b[1;33m\u001b[0m\u001b[0m\n\u001b[1;32m--> 873\u001b[1;33m     return super(TFLiteKerasModelConverterV2,\n\u001b[0m\u001b[0;32m    874\u001b[0m                  self).convert(graph_def, input_tensors, output_tensors)\n\u001b[0;32m    875\u001b[0m \u001b[1;33m\u001b[0m\u001b[0m\n",
      "\u001b[1;32m~\\anaconda3\\envs\\NLP\\lib\\site-packages\\tensorflow\\lite\\python\\lite.py\u001b[0m in \u001b[0;36mconvert\u001b[1;34m(self, graph_def, input_tensors, output_tensors)\u001b[0m\n\u001b[0;32m    635\u001b[0m         self.inference_input_type, self.inference_output_type)\n\u001b[0;32m    636\u001b[0m     \u001b[1;32mif\u001b[0m \u001b[0mflags_modify_model_io_type\u001b[0m\u001b[1;33m:\u001b[0m\u001b[1;33m\u001b[0m\u001b[1;33m\u001b[0m\u001b[0m\n\u001b[1;32m--> 637\u001b[1;33m       \u001b[0mresult\u001b[0m \u001b[1;33m=\u001b[0m \u001b[0m_modify_model_io_type\u001b[0m\u001b[1;33m(\u001b[0m\u001b[0mresult\u001b[0m\u001b[1;33m,\u001b[0m \u001b[1;33m**\u001b[0m\u001b[0mflags_modify_model_io_type\u001b[0m\u001b[1;33m)\u001b[0m\u001b[1;33m\u001b[0m\u001b[1;33m\u001b[0m\u001b[0m\n\u001b[0m\u001b[0;32m    638\u001b[0m \u001b[1;33m\u001b[0m\u001b[0m\n\u001b[0;32m    639\u001b[0m     \u001b[1;32mif\u001b[0m \u001b[0mself\u001b[0m\u001b[1;33m.\u001b[0m\u001b[0m_experimental_sparsify_model\u001b[0m\u001b[1;33m:\u001b[0m\u001b[1;33m\u001b[0m\u001b[1;33m\u001b[0m\u001b[0m\n",
      "\u001b[1;32m~\\anaconda3\\envs\\NLP\\lib\\site-packages\\tensorflow\\lite\\python\\util.py\u001b[0m in \u001b[0;36mmodify_model_io_type\u001b[1;34m(model, inference_input_type, inference_output_type)\u001b[0m\n\u001b[0;32m    833\u001b[0m     \u001b[1;32mreturn\u001b[0m \u001b[0mmodel\u001b[0m\u001b[1;33m\u001b[0m\u001b[1;33m\u001b[0m\u001b[0m\n\u001b[0;32m    834\u001b[0m \u001b[1;33m\u001b[0m\u001b[0m\n\u001b[1;32m--> 835\u001b[1;33m   \u001b[0mmodel_object\u001b[0m \u001b[1;33m=\u001b[0m \u001b[0m_convert_model_from_bytearray_to_object\u001b[0m\u001b[1;33m(\u001b[0m\u001b[0mmodel\u001b[0m\u001b[1;33m)\u001b[0m\u001b[1;33m\u001b[0m\u001b[1;33m\u001b[0m\u001b[0m\n\u001b[0m\u001b[0;32m    836\u001b[0m \u001b[1;33m\u001b[0m\u001b[0m\n\u001b[0;32m    837\u001b[0m   \u001b[1;32mif\u001b[0m \u001b[0mlen\u001b[0m\u001b[1;33m(\u001b[0m\u001b[0mmodel_object\u001b[0m\u001b[1;33m.\u001b[0m\u001b[0msubgraphs\u001b[0m\u001b[1;33m)\u001b[0m \u001b[1;33m>\u001b[0m \u001b[1;36m1\u001b[0m\u001b[1;33m:\u001b[0m\u001b[1;33m\u001b[0m\u001b[1;33m\u001b[0m\u001b[0m\n",
      "\u001b[1;32m~\\anaconda3\\envs\\NLP\\lib\\site-packages\\tensorflow\\lite\\python\\util.py\u001b[0m in \u001b[0;36m_convert_model_from_bytearray_to_object\u001b[1;34m(model_bytearray)\u001b[0m\n\u001b[0;32m    570\u001b[0m \u001b[1;32mdef\u001b[0m \u001b[0m_convert_model_from_bytearray_to_object\u001b[0m\u001b[1;33m(\u001b[0m\u001b[0mmodel_bytearray\u001b[0m\u001b[1;33m)\u001b[0m\u001b[1;33m:\u001b[0m\u001b[1;33m\u001b[0m\u001b[1;33m\u001b[0m\u001b[0m\n\u001b[0;32m    571\u001b[0m   \u001b[1;34m\"\"\"Converts a tflite model from a bytearray into a parsable object.\"\"\"\u001b[0m\u001b[1;33m\u001b[0m\u001b[1;33m\u001b[0m\u001b[0m\n\u001b[1;32m--> 572\u001b[1;33m   \u001b[0mmodel_object\u001b[0m \u001b[1;33m=\u001b[0m \u001b[0mschema_fb\u001b[0m\u001b[1;33m.\u001b[0m\u001b[0mModel\u001b[0m\u001b[1;33m.\u001b[0m\u001b[0mGetRootAsModel\u001b[0m\u001b[1;33m(\u001b[0m\u001b[0mmodel_bytearray\u001b[0m\u001b[1;33m,\u001b[0m \u001b[1;36m0\u001b[0m\u001b[1;33m)\u001b[0m\u001b[1;33m\u001b[0m\u001b[1;33m\u001b[0m\u001b[0m\n\u001b[0m\u001b[0;32m    573\u001b[0m   \u001b[0mmodel_object\u001b[0m \u001b[1;33m=\u001b[0m \u001b[0mschema_fb\u001b[0m\u001b[1;33m.\u001b[0m\u001b[0mModelT\u001b[0m\u001b[1;33m.\u001b[0m\u001b[0mInitFromObj\u001b[0m\u001b[1;33m(\u001b[0m\u001b[0mmodel_object\u001b[0m\u001b[1;33m)\u001b[0m\u001b[1;33m\u001b[0m\u001b[1;33m\u001b[0m\u001b[0m\n\u001b[0;32m    574\u001b[0m   \u001b[0mmodel_object\u001b[0m \u001b[1;33m=\u001b[0m \u001b[0mcopy\u001b[0m\u001b[1;33m.\u001b[0m\u001b[0mdeepcopy\u001b[0m\u001b[1;33m(\u001b[0m\u001b[0mmodel_object\u001b[0m\u001b[1;33m)\u001b[0m\u001b[1;33m\u001b[0m\u001b[1;33m\u001b[0m\u001b[0m\n",
      "\u001b[1;31mAttributeError\u001b[0m: module 'tensorflow.lite.python.schema_py_generated' has no attribute 'Model'"
     ]
    }
   ],
   "source": [
    "def representative_dataset():\n",
    "  for data in tf.data.Dataset.from_tensor_slices((X_train)).batch(1).take(100):\n",
    "    yield [tf.dtypes.cast(data, tf.float32)]\n",
    "\n",
    "\n",
    "tf_lite_converter = tf.lite.TFLiteConverter.from_keras_model(model)\n",
    "tf_lite_converter.data = data\n",
    "tf_lite_converter.optimizations = [tf.lite.Optimize.DEFAULT]\n",
    "tf_lite_converter.target_spec.supported_ops = [tf.lite.OpsSet.TFLITE_BUILTINS_INT8]\n",
    "tf_lite_converter.representative_dataset = representative_dataset\n",
    "tf_lite_converter.inference_input_type = tf.uint8#Error is from this line and\n",
    "tf_lite_converter.inference_output_type = tf.uint8#Error is from this line also\n",
    "#If we comment this two lines and run then will get our outputs\n",
    "tflite_model_Integer = tf_lite_converter.convert()"
   ]
  },
  {
   "cell_type": "code",
   "execution_count": 43,
   "id": "dc2d08a9",
   "metadata": {},
   "outputs": [
    {
     "data": {
      "text/plain": [
       "55424"
      ]
     },
     "execution_count": 43,
     "metadata": {},
     "output_type": "execute_result"
    }
   ],
   "source": [
    "tflite_model_name = TF_LITE_MODEL_FILE_NAME_intonly\n",
    "open(tflite_model_name, \"wb\").write(tflite_model_Integer)"
   ]
  },
  {
   "cell_type": "code",
   "execution_count": 44,
   "id": "75656fe9",
   "metadata": {},
   "outputs": [
    {
     "name": "stdout",
     "output_type": "stream",
     "text": [
      "File size: 54.125 Kilobytes\n"
     ]
    }
   ],
   "source": [
    "convert_bytes(get_file_size(TF_LITE_MODEL_FILE_NAME_intonly), \"KB\")"
   ]
  },
  {
   "cell_type": "markdown",
   "id": "58521b78",
   "metadata": {},
   "source": [
    "# Checking Input Tensor shape"
   ]
  },
  {
   "cell_type": "code",
   "execution_count": 45,
   "id": "3a6d2edf",
   "metadata": {},
   "outputs": [
    {
     "name": "stdout",
     "output_type": "stream",
     "text": [
      "Input Shape: [ 1 21]\n",
      "Output Shape: [1 5]\n"
     ]
    }
   ],
   "source": [
    "interpreter = tf.lite.Interpreter(model_path = TF_LITE_MODEL_FILE_NAME_intonly) # By creating inpterpreter we are getting i/p and o/p detailes\n",
    "input_details = interpreter.get_input_details()\n",
    "output_details = interpreter.get_output_details()\n",
    "print(\"Input Shape:\", input_details[0]['shape'])\n",
    "print(\"Output Shape:\", output_details[0]['shape'])"
   ]
  },
  {
   "cell_type": "markdown",
   "id": "9d17867d",
   "metadata": {},
   "source": [
    "# Resize Tensor Shape"
   ]
  },
  {
   "cell_type": "code",
   "execution_count": 46,
   "id": "6534267e",
   "metadata": {},
   "outputs": [
    {
     "name": "stdout",
     "output_type": "stream",
     "text": [
      "Input Shape: [13633    21]\n",
      "Output Shape: [13633     5]\n"
     ]
    }
   ],
   "source": [
    "#By using the resize_tensor_input we are passing the new dimmension we want to input\n",
    "interpreter.resize_tensor_input(input_details[0]['index'], (13633, 21))\n",
    "interpreter.resize_tensor_input(output_details[0]['index'], (13633, 5))\n",
    "#allocate_tensor() object for the interpreter object\n",
    "interpreter.allocate_tensors()\n",
    "input_details = interpreter.get_input_details()#Input tensor is used for loading the input data\n",
    "output_details = interpreter.get_output_details()#Output tensor is used for getting predictions\n",
    "#we are printing the details which are there.\n",
    "print(\"Input Shape:\", input_details[0]['shape'])\n",
    "print(\"Output Shape:\", output_details[0]['shape'])"
   ]
  },
  {
   "cell_type": "code",
   "execution_count": 47,
   "id": "f8b21d8a",
   "metadata": {},
   "outputs": [],
   "source": [
    "#SO here we are converting that float 64 to float 32 which we have achived by this peace of code\n",
    "test_url_numpy = np.array(X_test, dtype=np.float32)# basicaly creating a new array and specifying the required type that's it"
   ]
  },
  {
   "cell_type": "code",
   "execution_count": 48,
   "id": "e35ebdd5",
   "metadata": {},
   "outputs": [
    {
     "name": "stdout",
     "output_type": "stream",
     "text": [
      "Prediction results shape: (13633, 5)\n"
     ]
    }
   ],
   "source": [
    "interpreter.set_tensor(input_details[0]['index'], test_url_numpy) \n",
    "interpreter.invoke()\n",
    "tflite_model_predictions = interpreter.get_tensor(output_details[0]['index'])\n",
    "print(\"Prediction results shape:\", tflite_model_predictions.shape)\n",
    "prediction_classes = np.argmax(tflite_model_predictions, axis=1)"
   ]
  },
  {
   "cell_type": "code",
   "execution_count": 49,
   "id": "e99073ba",
   "metadata": {},
   "outputs": [
    {
     "name": "stdout",
     "output_type": "stream",
     "text": [
      "Test accuracy TFLITE model : 0.8139074304995232\n"
     ]
    }
   ],
   "source": [
    "acc = accuracy_score(prediction_classes, y_test)\n",
    "print('Test accuracy TFLITE model :', acc)"
   ]
  },
  {
   "cell_type": "code",
   "execution_count": null,
   "id": "d60f16e7",
   "metadata": {},
   "outputs": [],
   "source": []
  },
  {
   "cell_type": "markdown",
   "id": "9cf89bfa",
   "metadata": {},
   "source": [
    "<h1>3) <u>Fall back quantisation</u></h1>"
   ]
  },
  {
   "cell_type": "code",
   "execution_count": 50,
   "id": "d69e7777",
   "metadata": {},
   "outputs": [],
   "source": [
    "TF_LITE_MODEL_FILE_NAME_Fullint = \"tf_lite_model_Fullint.tflite\""
   ]
  },
  {
   "cell_type": "code",
   "execution_count": 51,
   "id": "e32e707e",
   "metadata": {},
   "outputs": [
    {
     "name": "stdout",
     "output_type": "stream",
     "text": [
      "INFO:tensorflow:Assets written to: C:\\Users\\phvpa\\AppData\\Local\\Temp\\tmpajk2jjco\\assets\n"
     ]
    },
    {
     "name": "stderr",
     "output_type": "stream",
     "text": [
      "INFO:tensorflow:Assets written to: C:\\Users\\phvpa\\AppData\\Local\\Temp\\tmpajk2jjco\\assets\n"
     ]
    }
   ],
   "source": [
    "def representative_dataset():\n",
    "  for data in tf.data.Dataset.from_tensor_slices((X_train)).batch(1).take(100):\n",
    "    yield [tf.dtypes.cast(data, tf.float32)]\n",
    "    \n",
    "\n",
    "    \n",
    "converter = tf.lite.TFLiteConverter.from_keras_model(model)\n",
    "converter.optimizations = [tf.lite.Optimize.DEFAULT]\n",
    "#converter.target_spec.supported_ops = [tf.lite.OpsSet.TFLITE_BUILTINS,tf.lite.OpsSet.SELECT_TF_OPS,tf.lite.OpsSet.TFLITE_BUILTINS_INT8]\n",
    "#converter.inference_input_type = tf.float32\n",
    "\n",
    "converter.representative_dataset = representative_dataset\n",
    "tflite_model_Full_Integer = converter.convert()"
   ]
  },
  {
   "cell_type": "code",
   "execution_count": 52,
   "id": "61b01cb8",
   "metadata": {},
   "outputs": [
    {
     "data": {
      "text/plain": [
       "55424"
      ]
     },
     "execution_count": 52,
     "metadata": {},
     "output_type": "execute_result"
    }
   ],
   "source": [
    "tflite_model_name = TF_LITE_MODEL_FILE_NAME_Fullint\n",
    "open(tflite_model_name, \"wb\").write(tflite_model_Full_Integer)"
   ]
  },
  {
   "cell_type": "code",
   "execution_count": 53,
   "id": "744ebdcf",
   "metadata": {},
   "outputs": [
    {
     "name": "stdout",
     "output_type": "stream",
     "text": [
      "File size: 54.125 Kilobytes\n"
     ]
    }
   ],
   "source": [
    "convert_bytes(get_file_size(TF_LITE_MODEL_FILE_NAME_Fullint), \"KB\")"
   ]
  },
  {
   "cell_type": "markdown",
   "id": "2f6a519c",
   "metadata": {},
   "source": [
    "<h2> Checking Input Tensor shape</h2>"
   ]
  },
  {
   "cell_type": "code",
   "execution_count": 54,
   "id": "af626f2c",
   "metadata": {},
   "outputs": [
    {
     "name": "stdout",
     "output_type": "stream",
     "text": [
      "Input Shape: [ 1 21]\n",
      "Input Type: <class 'numpy.float32'>\n",
      "Output Shape: [1 5]\n",
      "Output Type: <class 'numpy.float32'>\n"
     ]
    }
   ],
   "source": [
    "interpreter = tf.lite.Interpreter(model_path = TF_LITE_MODEL_FILE_NAME_Fullint) # By creating inpterpreter we are getting i/p and o/p detailes\n",
    "input_details = interpreter.get_input_details()\n",
    "output_details = interpreter.get_output_details()\n",
    "print(\"Input Shape:\", input_details[0]['shape'])\n",
    "print(\"Input Type:\", input_details[0]['dtype'])\n",
    "print(\"Output Shape:\", output_details[0]['shape'])\n",
    "print(\"Output Type:\", output_details[0]['dtype'])"
   ]
  },
  {
   "cell_type": "markdown",
   "id": "81ab792a",
   "metadata": {},
   "source": [
    "## Resize Tensor Shape"
   ]
  },
  {
   "cell_type": "code",
   "execution_count": 55,
   "id": "82b16b85",
   "metadata": {
    "scrolled": true
   },
   "outputs": [
    {
     "name": "stdout",
     "output_type": "stream",
     "text": [
      "Input Shape: [13633    21]\n",
      "Input Type: <class 'numpy.float32'>\n",
      "Output Shape: [13633     5]\n",
      "Output Type: <class 'numpy.float32'>\n"
     ]
    }
   ],
   "source": [
    "#By using the resize_tensor_input we are passing the new dimmension we want to input\n",
    "interpreter.resize_tensor_input(input_details[0]['index'], (13633, 21))\n",
    "interpreter.resize_tensor_input(output_details[0]['index'], (13633, 5))\n",
    "#allocate_tensor() object for the interpreter object\n",
    "interpreter.allocate_tensors()\n",
    "input_details = interpreter.get_input_details()\n",
    "output_details = interpreter.get_output_details()\n",
    "#we are printing the details which are there.\n",
    "print(\"Input Shape:\", input_details[0]['shape'])\n",
    "print(\"Input Type:\", input_details[0]['dtype'])\n",
    "print(\"Output Shape:\", output_details[0]['shape'])\n",
    "print(\"Output Type:\", output_details[0]['dtype'])"
   ]
  },
  {
   "cell_type": "code",
   "execution_count": 56,
   "id": "1dd3f0c2",
   "metadata": {},
   "outputs": [
    {
     "data": {
      "text/plain": [
       "dtype('float64')"
      ]
     },
     "execution_count": 56,
     "metadata": {},
     "output_type": "execute_result"
    }
   ],
   "source": [
    "X_test[0].dtype # Our test data is of the type float64"
   ]
  },
  {
   "cell_type": "code",
   "execution_count": 57,
   "id": "e6529b2e",
   "metadata": {},
   "outputs": [],
   "source": [
    "#SO here we are converting that float 64 to float 32 which we have achived by this peace of code\n",
    "test_imgs_numpy = np.array(X_test, dtype=np.float32)# basicaly creating a new array and specifying the required type that's it"
   ]
  },
  {
   "cell_type": "code",
   "execution_count": 58,
   "id": "a9f50d2b",
   "metadata": {},
   "outputs": [
    {
     "name": "stdout",
     "output_type": "stream",
     "text": [
      "Prediction results shape: (13633, 5)\n"
     ]
    }
   ],
   "source": [
    "interpreter.set_tensor(input_details[0]['index'], test_imgs_numpy)\n",
    "interpreter.invoke()\n",
    "tflite_model_predictions = interpreter.get_tensor(output_details[0]['index'])\n",
    "print(\"Prediction results shape:\", tflite_model_predictions.shape)\n",
    "prediction_classes = np.argmax(tflite_model_predictions, axis=1)"
   ]
  },
  {
   "cell_type": "code",
   "execution_count": 59,
   "id": "9bbd48f6",
   "metadata": {},
   "outputs": [
    {
     "data": {
      "text/plain": [
       "dtype('float32')"
      ]
     },
     "execution_count": 59,
     "metadata": {},
     "output_type": "execute_result"
    }
   ],
   "source": [
    "test_imgs_numpy[0].dtype"
   ]
  },
  {
   "cell_type": "code",
   "execution_count": 60,
   "id": "00321479",
   "metadata": {},
   "outputs": [
    {
     "name": "stdout",
     "output_type": "stream",
     "text": [
      "Test accuracy TFLITE model : 0.8139074304995232\n"
     ]
    }
   ],
   "source": [
    "acc = accuracy_score(prediction_classes, y_test)\n",
    "print('Test accuracy TFLITE model :', acc)"
   ]
  },
  {
   "cell_type": "code",
   "execution_count": null,
   "id": "b6d85320",
   "metadata": {},
   "outputs": [],
   "source": []
  },
  {
   "cell_type": "markdown",
   "id": "26bc1339",
   "metadata": {},
   "source": [
    "<h1>4)<u>Float 16 Quantization </u></h1>"
   ]
  },
  {
   "cell_type": "code",
   "execution_count": 61,
   "id": "5071d928",
   "metadata": {},
   "outputs": [],
   "source": [
    "TF_LITE_MODEL_FILE_NAME_F16 = \"tf_lite_model_F16.tflite\""
   ]
  },
  {
   "cell_type": "code",
   "execution_count": 62,
   "id": "06176b07",
   "metadata": {},
   "outputs": [
    {
     "name": "stdout",
     "output_type": "stream",
     "text": [
      "INFO:tensorflow:Assets written to: C:\\Users\\phvpa\\AppData\\Local\\Temp\\tmpr0dhwxse\\assets\n"
     ]
    },
    {
     "name": "stderr",
     "output_type": "stream",
     "text": [
      "INFO:tensorflow:Assets written to: C:\\Users\\phvpa\\AppData\\Local\\Temp\\tmpr0dhwxse\\assets\n"
     ]
    }
   ],
   "source": [
    "tf_lite_converter = tf.lite.TFLiteConverter.from_keras_model(model)\n",
    "tf_lite_converter.optimizations = [tf.lite.Optimize.OPTIMIZE_FOR_SIZE]\n",
    "tf_lite_converter.target_spec.supported_types = [tf.float16] #F16\n",
    "tflite_model_F16 = tf_lite_converter.convert()"
   ]
  },
  {
   "cell_type": "code",
   "execution_count": 63,
   "id": "461d9781",
   "metadata": {},
   "outputs": [
    {
     "data": {
      "text/plain": [
       "103632"
      ]
     },
     "execution_count": 63,
     "metadata": {},
     "output_type": "execute_result"
    }
   ],
   "source": [
    "tflite_model_name = TF_LITE_MODEL_FILE_NAME_F16\n",
    "open(tflite_model_name, \"wb\").write(tflite_model_F16)"
   ]
  },
  {
   "cell_type": "code",
   "execution_count": 64,
   "id": "b49fd696",
   "metadata": {},
   "outputs": [
    {
     "name": "stdout",
     "output_type": "stream",
     "text": [
      "File size: 101.203 Kilobytes\n"
     ]
    }
   ],
   "source": [
    "convert_bytes(get_file_size(TF_LITE_MODEL_FILE_NAME_F16), \"KB\")"
   ]
  },
  {
   "cell_type": "markdown",
   "id": "799d6352",
   "metadata": {},
   "source": [
    "<h2> Check Input Tensor Shape </h2>"
   ]
  },
  {
   "cell_type": "code",
   "execution_count": 65,
   "id": "68c4bc0f",
   "metadata": {},
   "outputs": [
    {
     "name": "stdout",
     "output_type": "stream",
     "text": [
      "Input Shape: [ 1 21]\n",
      "Output Shape: [1 5]\n"
     ]
    }
   ],
   "source": [
    "interpreter = tf.lite.Interpreter(model_path = TF_LITE_MODEL_FILE_NAME_F16) # By creating inpterpreter we are getting i/p and o/p detailes\n",
    "input_details = interpreter.get_input_details()\n",
    "output_details = interpreter.get_output_details()\n",
    "print(\"Input Shape:\", input_details[0]['shape'])\n",
    "print(\"Output Shape:\", output_details[0]['shape'])\n"
   ]
  },
  {
   "cell_type": "markdown",
   "id": "652130ee",
   "metadata": {},
   "source": [
    "<h2>Resize Tensor Shape</h2>\n"
   ]
  },
  {
   "cell_type": "code",
   "execution_count": 66,
   "id": "a6d592c1",
   "metadata": {},
   "outputs": [
    {
     "name": "stdout",
     "output_type": "stream",
     "text": [
      "Input Shape: [13633    21]\n",
      "Output Shape: [13633     5]\n"
     ]
    }
   ],
   "source": [
    "#By using the resize_tensor_input we are passing the new dimmension we want to input\n",
    "interpreter.resize_tensor_input(input_details[0]['index'], (13633, 21))\n",
    "interpreter.resize_tensor_input(output_details[0]['index'], (13633, 5))\n",
    "#allocate_tensor() object for the interpreter object\n",
    "interpreter.allocate_tensors()\n",
    "input_details = interpreter.get_input_details()\n",
    "output_details = interpreter.get_output_details()\n",
    "#we are printing the details which are there.\n",
    "print(\"Input Shape:\", input_details[0]['shape'])\n",
    "print(\"Output Shape:\", output_details[0]['shape'])"
   ]
  },
  {
   "cell_type": "code",
   "execution_count": 67,
   "id": "c2d58fb4",
   "metadata": {},
   "outputs": [],
   "source": [
    "test_url_numpy = np.array(X_test, dtype=np.float32)"
   ]
  },
  {
   "cell_type": "code",
   "execution_count": 68,
   "id": "6c4df864",
   "metadata": {},
   "outputs": [
    {
     "name": "stdout",
     "output_type": "stream",
     "text": [
      "Prediction results shape: (13633, 5)\n"
     ]
    }
   ],
   "source": [
    "interpreter.set_tensor(input_details[0]['index'], test_url_numpy)\n",
    "interpreter.invoke()\n",
    "tflite_model_predictions = interpreter.get_tensor(output_details[0]['index'])\n",
    "print(\"Prediction results shape:\", tflite_model_predictions.shape)\n",
    "prediction_classes = np.argmax(tflite_model_predictions, axis=1)"
   ]
  },
  {
   "cell_type": "code",
   "execution_count": 69,
   "id": "8513a15c",
   "metadata": {},
   "outputs": [],
   "source": [
    "acc = accuracy_score(prediction_classes, y_test)"
   ]
  },
  {
   "cell_type": "code",
   "execution_count": 70,
   "id": "73e6b823",
   "metadata": {},
   "outputs": [
    {
     "name": "stdout",
     "output_type": "stream",
     "text": [
      "Test accuracy TFLITE model : 0.8328320985843175\n"
     ]
    }
   ],
   "source": [
    "print('Test accuracy TFLITE model :', acc)"
   ]
  },
  {
   "cell_type": "markdown",
   "id": "e03c161b",
   "metadata": {},
   "source": [
    "# <b><u>Inference</u>:</b>"
   ]
  },
  {
   "cell_type": "markdown",
   "id": "760f751b",
   "metadata": {},
   "source": [
    "<img src=\"Results.png\" alt=\"Drawing\" style=\"width: 1000px;\"/>"
   ]
  },
  {
   "cell_type": "code",
   "execution_count": null,
   "id": "9779791c",
   "metadata": {},
   "outputs": [],
   "source": []
  },
  {
   "cell_type": "code",
   "execution_count": null,
   "id": "b87b72f4",
   "metadata": {},
   "outputs": [],
   "source": []
  },
  {
   "cell_type": "code",
   "execution_count": null,
   "id": "f2da345d",
   "metadata": {},
   "outputs": [],
   "source": []
  },
  {
   "cell_type": "code",
   "execution_count": null,
   "id": "f733cea4",
   "metadata": {},
   "outputs": [],
   "source": []
  },
  {
   "cell_type": "code",
   "execution_count": null,
   "id": "ac8784cb",
   "metadata": {},
   "outputs": [],
   "source": []
  },
  {
   "cell_type": "markdown",
   "id": "54fc472f",
   "metadata": {},
   "source": [
    "## Get Weights of Keras Model"
   ]
  },
  {
   "cell_type": "code",
   "execution_count": 71,
   "id": "cd830912",
   "metadata": {},
   "outputs": [],
   "source": [
    "from sys import getsizeof"
   ]
  },
  {
   "cell_type": "code",
   "execution_count": 72,
   "id": "763e056c",
   "metadata": {},
   "outputs": [
    {
     "data": {
      "text/plain": [
       "28"
      ]
     },
     "execution_count": 72,
     "metadata": {},
     "output_type": "execute_result"
    }
   ],
   "source": [
    "getsizeof(model.get_weights()[0][0][0])"
   ]
  },
  {
   "cell_type": "code",
   "execution_count": 73,
   "id": "790f922a",
   "metadata": {},
   "outputs": [
    {
     "data": {
      "text/plain": [
       "((21, 256), (256,), (256, 128), (128,), (128, 64))"
      ]
     },
     "execution_count": 73,
     "metadata": {},
     "output_type": "execute_result"
    }
   ],
   "source": [
    "model.get_weights()[0].shape,model.get_weights()[1].shape,model.get_weights()[2].shape,model.get_weights()[3].shape,model.get_weights()[4].shape"
   ]
  },
  {
   "cell_type": "markdown",
   "id": "bf05d205",
   "metadata": {},
   "source": [
    "## Access Quantized Weights of TFLite"
   ]
  },
  {
   "cell_type": "code",
   "execution_count": 74,
   "id": "486e77ac",
   "metadata": {},
   "outputs": [],
   "source": [
    "import h5py"
   ]
  },
  {
   "cell_type": "code",
   "execution_count": 75,
   "id": "b1106c2c",
   "metadata": {},
   "outputs": [],
   "source": [
    "# creating the h5 file to save the weights in tflite model and acces them back\n",
    "TF_LITE_WEIGHTS_TEMP_FILE_f16 = \"temp_weights_from_tflite_f16.h5\""
   ]
  },
  {
   "cell_type": "code",
   "execution_count": 76,
   "id": "d186f3e0",
   "metadata": {},
   "outputs": [],
   "source": [
    "interpreter = tf.lite.Interpreter(model_path=TF_LITE_MODEL_FILE_NAME_F16)\n",
    "interpreter.allocate_tensors()\n",
    "input_details = interpreter.get_input_details()\n",
    "output_details = interpreter.get_output_details()\n",
    "all_layers_details = interpreter.get_tensor_details() \n",
    "f = h5py.File(TF_LITE_WEIGHTS_TEMP_FILE_f16, \"w\")   \n",
    "for layer in all_layers_details:\n",
    "     grp = f.create_group(str(layer['index']))\n",
    "     grp.attrs[\"name\"] = layer['name']\n",
    "     grp.attrs[\"shape\"] = layer['shape']\n",
    "     grp.attrs[\"quantization\"] = layer['quantization']\n",
    "     grp.create_dataset(\"weights\", data=interpreter.get_tensor(layer['index']))\n",
    "f.close()\n",
    "# Till now my weigths of TFlite model are saved in the h5 file I have created above "
   ]
  },
  {
   "cell_type": "code",
   "execution_count": 77,
   "id": "a548be3b",
   "metadata": {},
   "outputs": [
    {
     "name": "stdout",
     "output_type": "stream",
     "text": [
      "0.01069 <class 'numpy.float16'>\n"
     ]
    }
   ],
   "source": [
    "temp_file = h5py.File(TF_LITE_WEIGHTS_TEMP_FILE_f16, 'r')# here we are loading the weights back \n",
    "# and here we are showing the value of one of the weights we loaded \n",
    "print(temp_file[\"1\"][\"weights\"][0], type(temp_file[\"1\"][\"weights\"][0]))"
   ]
  },
  {
   "cell_type": "code",
   "execution_count": 78,
   "id": "38131f66",
   "metadata": {},
   "outputs": [],
   "source": [
    "quantized_weight_var = np.array([temp_file[\"0\"][\"weights\"][0]],dtype = np.float16)"
   ]
  },
  {
   "cell_type": "code",
   "execution_count": 79,
   "id": "07bab092",
   "metadata": {
    "scrolled": true
   },
   "outputs": [
    {
     "data": {
      "text/plain": [
       "(96,\n",
       " array([ 0.,  0., nan, nan,  0., inf, inf, inf,  0., inf,  0.,  0., inf,\n",
       "        inf,  0., inf,  0.,  0.,  0., inf,  0.], dtype=float16))"
      ]
     },
     "execution_count": 79,
     "metadata": {},
     "output_type": "execute_result"
    }
   ],
   "source": [
    "getsizeof(quantized_weight_var[0]),quantized_weight_var[0]"
   ]
  },
  {
   "cell_type": "code",
   "execution_count": 80,
   "id": "97354b6f",
   "metadata": {},
   "outputs": [],
   "source": [
    "temp_file.close()"
   ]
  },
  {
   "cell_type": "code",
   "execution_count": null,
   "id": "b5b932b4",
   "metadata": {},
   "outputs": [],
   "source": []
  }
 ],
 "metadata": {
  "kernelspec": {
   "display_name": "Python 3 (ipykernel)",
   "language": "python",
   "name": "python3"
  },
  "language_info": {
   "codemirror_mode": {
    "name": "ipython",
    "version": 3
   },
   "file_extension": ".py",
   "mimetype": "text/x-python",
   "name": "python",
   "nbconvert_exporter": "python",
   "pygments_lexer": "ipython3",
   "version": "3.8.11"
  },
  "toc": {
   "base_numbering": 1,
   "nav_menu": {},
   "number_sections": false,
   "sideBar": false,
   "skip_h1_title": false,
   "title_cell": "Table of Contents",
   "title_sidebar": "Contents",
   "toc_cell": false,
   "toc_position": {},
   "toc_section_display": false,
   "toc_window_display": false
  }
 },
 "nbformat": 4,
 "nbformat_minor": 5
}
